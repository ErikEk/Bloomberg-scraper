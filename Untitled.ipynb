{
 "cells": [
  {
   "cell_type": "code",
   "execution_count": 56,
   "metadata": {
    "collapsed": false
   },
   "outputs": [
    {
     "name": "stdout",
     "output_type": "stream",
     "text": [
      "Stock/stuff: Stoxx 50\n",
      "Price/index: 3,528.81\n",
      "\n",
      "Stock/stuff: FTSE 100\n",
      "Price/index: 6,673.38\n",
      "\n",
      "Stock/stuff: DAX\n",
      "Price/index: 11,315.63\n",
      "\n",
      "Stock/stuff: CAC 40\n",
      "Price/index: 4,903.07\n",
      "\n",
      "Stock/stuff: Crude Oil (Brent)\n",
      "Price/index: 58.73\n",
      "\n",
      "Stock/stuff: DJIA\n",
      "Price/index: 17,760.41\n",
      "\n",
      "Stock/stuff: S&P 500\n",
      "Price/index: 2,076.62\n",
      "\n",
      "Stock/stuff: NASDAQ\n",
      "Price/index: 4,997.70\n",
      "\n",
      "Stock/stuff: TSX\n",
      "Price/index: 14,411.07\n",
      "\n",
      "Stock/stuff: iBovespa\n",
      "Price/index: 52,590.72\n",
      "\n",
      "Stock/stuff: Stoxx 50\n",
      "Price/index: 3,528.81\n",
      "\n",
      "Stock/stuff: FTSE 100\n",
      "Price/index: 6,673.38\n",
      "\n",
      "Stock/stuff: CAC 40\n",
      "Price/index: 4,903.07\n",
      "\n",
      "Stock/stuff: DAX\n",
      "Price/index: 11,315.63\n",
      "\n",
      "Stock/stuff: IBEX 35\n",
      "Price/index: 11,036.10\n",
      "\n",
      "Stock/stuff: Nikkei 225\n",
      "Price/index: 19,779.83\n",
      "\n",
      "Stock/stuff: Hang Seng\n",
      "Price/index: 24,901.28\n",
      "\n",
      "Stock/stuff: ASX 200\n",
      "Price/index: 5,492.04\n",
      "\n",
      "Stock/stuff: Shanghai\n",
      "Price/index: 3,877.80\n",
      "\n",
      "Stock/stuff: Sensex 30\n",
      "Price/index: 27,661.40\n",
      "\n",
      "Stock/stuff: Crude Oil (WTI)\n",
      "Price/index: 52.74\n",
      "\n",
      "Stock/stuff: Crude Oil (Brent)\n",
      "Price/index: 58.73\n",
      "\n",
      "Stock/stuff: Gold\n",
      "Price/index: 1,157.90\n",
      "\n",
      "Stock/stuff: Silver\n",
      "Price/index: 15.54\n",
      "\n",
      "Stock/stuff: Copper\n",
      "Price/index: 253.75\n",
      "\n"
     ]
    }
   ],
   "source": [
    "import requests\n",
    "from bs4 import BeautifulSoup\n",
    "#site = input(\"Get links from site...\")\n",
    "site = \"http://www.bloomberg.com\"\n",
    "r = requests.get(site)\n",
    "#print r\n",
    "soup = BeautifulSoup(r.content)\n",
    "#print soup.prettify().encode('UTF-8')\n",
    "g_data = soup.find_all(\"div\",{\"class\": \"market-summary__security exchange-closed\"})\n",
    "\n",
    "for item in g_data:\n",
    "    print \"Stock/stuff: \" + item.contents[1].text\n",
    "    print \"Price/index: \" + item.contents[3].find_all(\"div\", {\"class\":\"market-summary__security__price\"})[0].text\n",
    "    print \"\"\n",
    "    #print item.contents[1].find_all(\"div\", {\"class\":\"market-summary__security__price\"})\n",
    "    \n",
    "\n"
   ]
  },
  {
   "cell_type": "code",
   "execution_count": 23,
   "metadata": {
    "collapsed": false
   },
   "outputs": [
    {
     "name": "stdout",
     "output_type": "stream",
     "text": [
      "The slowest run took 22.47 times longer than the fastest. This could mean that an intermediate result is being cached \n",
      "1000000 loops, best of 3: 430 ns per loop\n",
      "1000000 loops, best of 3: 219 ns per loop\n",
      "\n"
     ]
    }
   ],
   "source": [
    "print timeit_results"
   ]
  }
 ],
 "metadata": {
  "kernelspec": {
   "display_name": "Python 2",
   "language": "python",
   "name": "python2"
  },
  "language_info": {
   "codemirror_mode": {
    "name": "ipython",
    "version": 2
   },
   "file_extension": ".py",
   "mimetype": "text/x-python",
   "name": "python",
   "nbconvert_exporter": "python",
   "pygments_lexer": "ipython2",
   "version": "2.7.10"
  }
 },
 "nbformat": 4,
 "nbformat_minor": 0
}
